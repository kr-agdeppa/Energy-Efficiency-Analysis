{
 "cells": [
  {
   "cell_type": "markdown",
   "id": "4656be67",
   "metadata": {},
   "source": [
    "<h3 style=\"text-align:center\"><i>Optimizing the energy efficiency in Building heating and cooling systems using KNN regression model</i></h1>"
   ]
  },
  {
   "cell_type": "markdown",
   "id": "c74a5e97",
   "metadata": {},
   "source": [
    "<div style=\"text-align: center\" ><b>AGDEPPA, K.R | BERDON, J | MUSTARD, R.K | TAHOYNON, S.J</b></div>"
   ]
  },
  {
   "cell_type": "markdown",
   "id": "757a3d54",
   "metadata": {},
   "source": [
    "<br>"
   ]
  },
  {
   "cell_type": "markdown",
   "id": "b047335c",
   "metadata": {},
   "source": [
    "## Table of Contents\n",
    "#### [I) Overview of the Problem](#Overview-of-the-Problem)\n",
    "\n",
    "#### [II) Dataset Description](#Dataset-Description)\n",
    "\n",
    "#### [III) Plan of Action](#Plan-of-Action)\n",
    "\n",
    "#### [IV) KNN Regression Implimentation](#KNN-Regression-Implimentation)\n",
    "\n",
    "#### [V) Three Highlights of the Results](#Three-Highlights-of-the-Results)\n",
    "\n",
    "#### [VI) Discussion of Results](#Discussion-of-Results)    "
   ]
  },
  {
   "cell_type": "markdown",
   "id": "7a7b6e72",
   "metadata": {},
   "source": [
    "<br>"
   ]
  },
  {
   "cell_type": "markdown",
   "id": "a3708201",
   "metadata": {
    "tags": []
   },
   "source": [
    "## Overview of the Problem\n",
    "<br>\n",
    "<div style=\"text-align: justify\" ><i>The building sectors are significant contributors to energy consumption and greenhouse gases emissions worldwide, and the Philippines is no exception. <b>Improving energy efficiency of buildings is critical to reduce their environmental impact and associated costs. Heating and cooling systems are major contributors to energy consumption accounting for a significant portion of building energy consumption. Specifically, in the Philippines, there’s a high electricity demand for air conditioning</b> (Santos et al., 2021). Building design parameters such as orientation, window-to-wall ratio, and shading devices have been an important factors in reducing heat gain and improving energy efficiency in buildings (Santos et al., 2021). The target of this study is the cooling and heating load, cooling load refers to the amount of heat energy that needs to be removed from a space to maintain a comfortable temperature range. On the other hand, the heating load is the amount of heat energy required to keep the space warm (Santos et al., 2021). Additionally, passive cooling techniques such as natural ventilation, thermal mass, and evaporative cooling can be effective in reducing cooling loads in buildings, particularly in the Philippines’ tropical and humid climate (Santos et al., 2021). Public information on the importance of energy-efficient infrastructure designs and operations are crucial.</i></div>\n",
    " \n",
    "<br>\n",
    "<div style=\"text-align: justify\" ><i>In this study, the researchers aim to predict the heat and cold load to classify attributes from the dataset that can significantly affect energy efficiency. To achieve this goal, we perform energy analysis using 12 different building shapes simulated in Ecotect. <b>The buildings differ with respect to the glazing area, the glazing area distribution, and the orientation, amongst other parameters. We simulate various settings as functions of the aforementioned characteristics to obtain 768 building shapes.</b> The dataset comprises 768 samples and 8 features, aiming to predict two real-valued responses. It can also be used as a multi-class classification problem if the response is rounded to the nearest integer.</i></div>\n"
   ]
  },
  {
   "cell_type": "markdown",
   "id": "c7b58ab2",
   "metadata": {},
   "source": [
    "<br>"
   ]
  },
  {
   "cell_type": "markdown",
   "id": "603be29e",
   "metadata": {
    "tags": []
   },
   "source": [
    "## Dataset Description\n",
    "\n",
    "The [dataset](https://archive.ics.uci.edu/ml/datasets/Energy+efficiency) contains eight attributes (features) and two responses (targets). The aim is to use the eight features to predict each of the two responses.\n",
    "\n",
    "    Features:\n",
    "\n",
    "        Relative Compactness - It is the measure of compactness of the closure or building.\n",
    "\n",
    "        Surface Area - Surface area of the Building.\n",
    "\n",
    "        Wall Area - area of the building covered by the width of the wall.\n",
    "\n",
    "        Roof Area - Area covered under roofs.\n",
    "\n",
    "        Overall Height - Overall height of building.\n",
    "\n",
    "        Orientation - Orientation of building based on direction like (North facing, South facing and others)\n",
    "\n",
    "        Glazing Area - means the total area of the wall which is glass\n",
    "\n",
    "        Glazing Area Distribution - How Glazing Area is distributed within the whole building.\n",
    "\n",
    "    Targets:\n",
    "\n",
    "        Heating Load - How much heating load is required to heat the building. \n",
    "\n",
    "        Cooling Load - How much load is required to cool the building.\n"
   ]
  },
  {
   "cell_type": "markdown",
   "id": "7ca7c388",
   "metadata": {},
   "source": [
    "<br>"
   ]
  },
  {
   "cell_type": "markdown",
   "id": "c77012c0",
   "metadata": {},
   "source": [
    "## Plan of Action\n",
    "\n",
    "*Upon the completion of this undertaking, we will be able to visualise and get a better understanding of the given dataset, identify its key features, and evaluate the performance of the kNN Regression model*"
   ]
  },
  {
   "cell_type": "markdown",
   "id": "6967d257",
   "metadata": {},
   "source": [
    "<br>"
   ]
  },
  {
   "cell_type": "markdown",
   "id": "c73525e1",
   "metadata": {},
   "source": [
    "## KNN Regression Implimentation"
   ]
  },
  {
   "cell_type": "markdown",
   "id": "8167c679",
   "metadata": {},
   "source": [
    "### *Import the libraries*"
   ]
  },
  {
   "cell_type": "code",
   "execution_count": 1,
   "id": "b78dfb90",
   "metadata": {
    "execution": {
     "iopub.execute_input": "2023-03-29T05:32:39.349059Z",
     "iopub.status.busy": "2023-03-29T05:32:39.349059Z",
     "iopub.status.idle": "2023-03-29T05:32:41.515355Z",
     "shell.execute_reply": "2023-03-29T05:32:41.514346Z",
     "shell.execute_reply.started": "2023-03-29T05:32:39.349059Z"
    },
    "tags": []
   },
   "outputs": [],
   "source": [
    "# data manipulation\n",
    "import pandas as pd\n",
    "import numpy as np # linear algebra\n",
    "from sklearn.model_selection import train_test_split\n",
    "\n",
    "# data visualization \n",
    "import seaborn as sns\n",
    "import matplotlib.pyplot as plt\n",
    "\n",
    "# data normalization\n",
    "from sklearn.preprocessing import MinMaxScaler\n",
    "\n",
    "# knn regression model\n",
    "from sklearn.neighbors import KNeighborsRegressor\n",
    "\n",
    "# performance measures\n",
    "from sklearn.model_selection import cross_val_score\n",
    "from sklearn.metrics import r2_score\n",
    "from sklearn.metrics import mean_squared_error\n",
    "from sklearn.metrics import mean_absolute_error\n",
    "from sklearn.metrics import make_scorer\n",
    "\n",
    "# miscellaneous\n",
    "import warnings\n",
    "from tqdm import tqdm\n",
    "warnings.filterwarnings('ignore')"
   ]
  },
  {
   "cell_type": "markdown",
   "id": "0ff461ed",
   "metadata": {},
   "source": [
    "### *Load the data*"
   ]
  },
  {
   "cell_type": "code",
   "execution_count": 2,
   "id": "89c5bb0b",
   "metadata": {
    "execution": {
     "iopub.execute_input": "2023-03-29T05:32:41.517038Z",
     "iopub.status.busy": "2023-03-29T05:32:41.517038Z",
     "iopub.status.idle": "2023-03-29T05:32:41.545677Z",
     "shell.execute_reply": "2023-03-29T05:32:41.544611Z",
     "shell.execute_reply.started": "2023-03-29T05:32:41.517038Z"
    },
    "tags": []
   },
   "outputs": [],
   "source": [
    "df = pd.read_csv(r\"C:\\Users\\User\\Downloads\\archive\\energy_efficiency_data.csv\")"
   ]
  },
  {
   "cell_type": "code",
   "execution_count": 3,
   "id": "104adaae",
   "metadata": {
    "execution": {
     "iopub.execute_input": "2023-03-29T05:32:41.547676Z",
     "iopub.status.busy": "2023-03-29T05:32:41.546676Z",
     "iopub.status.idle": "2023-03-29T05:32:41.607537Z",
     "shell.execute_reply": "2023-03-29T05:32:41.606536Z",
     "shell.execute_reply.started": "2023-03-29T05:32:41.547676Z"
    }
   },
   "outputs": [
    {
     "data": {
      "text/html": [
       "<div>\n",
       "<style scoped>\n",
       "    .dataframe tbody tr th:only-of-type {\n",
       "        vertical-align: middle;\n",
       "    }\n",
       "\n",
       "    .dataframe tbody tr th {\n",
       "        vertical-align: top;\n",
       "    }\n",
       "\n",
       "    .dataframe thead th {\n",
       "        text-align: right;\n",
       "    }\n",
       "</style>\n",
       "<table border=\"1\" class=\"dataframe\">\n",
       "  <thead>\n",
       "    <tr style=\"text-align: right;\">\n",
       "      <th></th>\n",
       "      <th>Relative_Compactness</th>\n",
       "      <th>Surface_Area</th>\n",
       "      <th>Wall_Area</th>\n",
       "      <th>Roof_Area</th>\n",
       "      <th>Overall_Height</th>\n",
       "      <th>Orientation</th>\n",
       "      <th>Glazing_Area</th>\n",
       "      <th>Glazing_Area_Distribution</th>\n",
       "      <th>Heating_Load</th>\n",
       "      <th>Cooling_Load</th>\n",
       "    </tr>\n",
       "  </thead>\n",
       "  <tbody>\n",
       "    <tr>\n",
       "      <th>0</th>\n",
       "      <td>0.98</td>\n",
       "      <td>514.5</td>\n",
       "      <td>294.0</td>\n",
       "      <td>110.25</td>\n",
       "      <td>7.0</td>\n",
       "      <td>2</td>\n",
       "      <td>0.0</td>\n",
       "      <td>0</td>\n",
       "      <td>15.55</td>\n",
       "      <td>21.33</td>\n",
       "    </tr>\n",
       "    <tr>\n",
       "      <th>1</th>\n",
       "      <td>0.98</td>\n",
       "      <td>514.5</td>\n",
       "      <td>294.0</td>\n",
       "      <td>110.25</td>\n",
       "      <td>7.0</td>\n",
       "      <td>3</td>\n",
       "      <td>0.0</td>\n",
       "      <td>0</td>\n",
       "      <td>15.55</td>\n",
       "      <td>21.33</td>\n",
       "    </tr>\n",
       "    <tr>\n",
       "      <th>2</th>\n",
       "      <td>0.98</td>\n",
       "      <td>514.5</td>\n",
       "      <td>294.0</td>\n",
       "      <td>110.25</td>\n",
       "      <td>7.0</td>\n",
       "      <td>4</td>\n",
       "      <td>0.0</td>\n",
       "      <td>0</td>\n",
       "      <td>15.55</td>\n",
       "      <td>21.33</td>\n",
       "    </tr>\n",
       "    <tr>\n",
       "      <th>3</th>\n",
       "      <td>0.98</td>\n",
       "      <td>514.5</td>\n",
       "      <td>294.0</td>\n",
       "      <td>110.25</td>\n",
       "      <td>7.0</td>\n",
       "      <td>5</td>\n",
       "      <td>0.0</td>\n",
       "      <td>0</td>\n",
       "      <td>15.55</td>\n",
       "      <td>21.33</td>\n",
       "    </tr>\n",
       "    <tr>\n",
       "      <th>4</th>\n",
       "      <td>0.90</td>\n",
       "      <td>563.5</td>\n",
       "      <td>318.5</td>\n",
       "      <td>122.50</td>\n",
       "      <td>7.0</td>\n",
       "      <td>2</td>\n",
       "      <td>0.0</td>\n",
       "      <td>0</td>\n",
       "      <td>20.84</td>\n",
       "      <td>28.28</td>\n",
       "    </tr>\n",
       "    <tr>\n",
       "      <th>...</th>\n",
       "      <td>...</td>\n",
       "      <td>...</td>\n",
       "      <td>...</td>\n",
       "      <td>...</td>\n",
       "      <td>...</td>\n",
       "      <td>...</td>\n",
       "      <td>...</td>\n",
       "      <td>...</td>\n",
       "      <td>...</td>\n",
       "      <td>...</td>\n",
       "    </tr>\n",
       "    <tr>\n",
       "      <th>763</th>\n",
       "      <td>0.64</td>\n",
       "      <td>784.0</td>\n",
       "      <td>343.0</td>\n",
       "      <td>220.50</td>\n",
       "      <td>3.5</td>\n",
       "      <td>5</td>\n",
       "      <td>0.4</td>\n",
       "      <td>5</td>\n",
       "      <td>17.88</td>\n",
       "      <td>21.40</td>\n",
       "    </tr>\n",
       "    <tr>\n",
       "      <th>764</th>\n",
       "      <td>0.62</td>\n",
       "      <td>808.5</td>\n",
       "      <td>367.5</td>\n",
       "      <td>220.50</td>\n",
       "      <td>3.5</td>\n",
       "      <td>2</td>\n",
       "      <td>0.4</td>\n",
       "      <td>5</td>\n",
       "      <td>16.54</td>\n",
       "      <td>16.88</td>\n",
       "    </tr>\n",
       "    <tr>\n",
       "      <th>765</th>\n",
       "      <td>0.62</td>\n",
       "      <td>808.5</td>\n",
       "      <td>367.5</td>\n",
       "      <td>220.50</td>\n",
       "      <td>3.5</td>\n",
       "      <td>3</td>\n",
       "      <td>0.4</td>\n",
       "      <td>5</td>\n",
       "      <td>16.44</td>\n",
       "      <td>17.11</td>\n",
       "    </tr>\n",
       "    <tr>\n",
       "      <th>766</th>\n",
       "      <td>0.62</td>\n",
       "      <td>808.5</td>\n",
       "      <td>367.5</td>\n",
       "      <td>220.50</td>\n",
       "      <td>3.5</td>\n",
       "      <td>4</td>\n",
       "      <td>0.4</td>\n",
       "      <td>5</td>\n",
       "      <td>16.48</td>\n",
       "      <td>16.61</td>\n",
       "    </tr>\n",
       "    <tr>\n",
       "      <th>767</th>\n",
       "      <td>0.62</td>\n",
       "      <td>808.5</td>\n",
       "      <td>367.5</td>\n",
       "      <td>220.50</td>\n",
       "      <td>3.5</td>\n",
       "      <td>5</td>\n",
       "      <td>0.4</td>\n",
       "      <td>5</td>\n",
       "      <td>16.64</td>\n",
       "      <td>16.03</td>\n",
       "    </tr>\n",
       "  </tbody>\n",
       "</table>\n",
       "<p>768 rows × 10 columns</p>\n",
       "</div>"
      ],
      "text/plain": [
       "     Relative_Compactness  Surface_Area  Wall_Area  Roof_Area  Overall_Height  \\\n",
       "0                    0.98         514.5      294.0     110.25             7.0   \n",
       "1                    0.98         514.5      294.0     110.25             7.0   \n",
       "2                    0.98         514.5      294.0     110.25             7.0   \n",
       "3                    0.98         514.5      294.0     110.25             7.0   \n",
       "4                    0.90         563.5      318.5     122.50             7.0   \n",
       "..                    ...           ...        ...        ...             ...   \n",
       "763                  0.64         784.0      343.0     220.50             3.5   \n",
       "764                  0.62         808.5      367.5     220.50             3.5   \n",
       "765                  0.62         808.5      367.5     220.50             3.5   \n",
       "766                  0.62         808.5      367.5     220.50             3.5   \n",
       "767                  0.62         808.5      367.5     220.50             3.5   \n",
       "\n",
       "     Orientation  Glazing_Area  Glazing_Area_Distribution  Heating_Load  \\\n",
       "0              2           0.0                          0         15.55   \n",
       "1              3           0.0                          0         15.55   \n",
       "2              4           0.0                          0         15.55   \n",
       "3              5           0.0                          0         15.55   \n",
       "4              2           0.0                          0         20.84   \n",
       "..           ...           ...                        ...           ...   \n",
       "763            5           0.4                          5         17.88   \n",
       "764            2           0.4                          5         16.54   \n",
       "765            3           0.4                          5         16.44   \n",
       "766            4           0.4                          5         16.48   \n",
       "767            5           0.4                          5         16.64   \n",
       "\n",
       "     Cooling_Load  \n",
       "0           21.33  \n",
       "1           21.33  \n",
       "2           21.33  \n",
       "3           21.33  \n",
       "4           28.28  \n",
       "..            ...  \n",
       "763         21.40  \n",
       "764         16.88  \n",
       "765         17.11  \n",
       "766         16.61  \n",
       "767         16.03  \n",
       "\n",
       "[768 rows x 10 columns]"
      ]
     },
     "execution_count": 3,
     "metadata": {},
     "output_type": "execute_result"
    }
   ],
   "source": [
    "df"
   ]
  },
  {
   "cell_type": "markdown",
   "id": "68fad335",
   "metadata": {},
   "source": [
    "### *Check for null values*"
   ]
  },
  {
   "cell_type": "code",
   "execution_count": 4,
   "id": "dd8329eb",
   "metadata": {
    "execution": {
     "iopub.execute_input": "2023-03-29T05:32:41.613537Z",
     "iopub.status.busy": "2023-03-29T05:32:41.612537Z",
     "iopub.status.idle": "2023-03-29T05:32:41.638075Z",
     "shell.execute_reply": "2023-03-29T05:32:41.637074Z",
     "shell.execute_reply.started": "2023-03-29T05:32:41.613537Z"
    }
   },
   "outputs": [
    {
     "data": {
      "text/plain": [
       "Relative_Compactness         0\n",
       "Surface_Area                 0\n",
       "Wall_Area                    0\n",
       "Roof_Area                    0\n",
       "Overall_Height               0\n",
       "Orientation                  0\n",
       "Glazing_Area                 0\n",
       "Glazing_Area_Distribution    0\n",
       "Heating_Load                 0\n",
       "Cooling_Load                 0\n",
       "dtype: int64"
      ]
     },
     "execution_count": 4,
     "metadata": {},
     "output_type": "execute_result"
    }
   ],
   "source": [
    "df.isna().sum()"
   ]
  },
  {
   "cell_type": "markdown",
   "id": "ea223400",
   "metadata": {},
   "source": [
    "### *Getting to know the dataset*"
   ]
  },
  {
   "cell_type": "code",
   "execution_count": 5,
   "id": "b645579a",
   "metadata": {
    "execution": {
     "iopub.execute_input": "2023-03-29T05:32:41.640075Z",
     "iopub.status.busy": "2023-03-29T05:32:41.639076Z",
     "iopub.status.idle": "2023-03-29T05:32:41.717759Z",
     "shell.execute_reply": "2023-03-29T05:32:41.714999Z",
     "shell.execute_reply.started": "2023-03-29T05:32:41.640075Z"
    },
    "scrolled": true
   },
   "outputs": [
    {
     "data": {
      "text/html": [
       "<div>\n",
       "<style scoped>\n",
       "    .dataframe tbody tr th:only-of-type {\n",
       "        vertical-align: middle;\n",
       "    }\n",
       "\n",
       "    .dataframe tbody tr th {\n",
       "        vertical-align: top;\n",
       "    }\n",
       "\n",
       "    .dataframe thead th {\n",
       "        text-align: right;\n",
       "    }\n",
       "</style>\n",
       "<table border=\"1\" class=\"dataframe\">\n",
       "  <thead>\n",
       "    <tr style=\"text-align: right;\">\n",
       "      <th></th>\n",
       "      <th>count</th>\n",
       "      <th>mean</th>\n",
       "      <th>std</th>\n",
       "      <th>min</th>\n",
       "      <th>25%</th>\n",
       "      <th>50%</th>\n",
       "      <th>75%</th>\n",
       "      <th>max</th>\n",
       "    </tr>\n",
       "  </thead>\n",
       "  <tbody>\n",
       "    <tr>\n",
       "      <th>Relative_Compactness</th>\n",
       "      <td>768.0</td>\n",
       "      <td>0.764167</td>\n",
       "      <td>0.105777</td>\n",
       "      <td>0.62</td>\n",
       "      <td>0.6825</td>\n",
       "      <td>0.75</td>\n",
       "      <td>0.8300</td>\n",
       "      <td>0.98</td>\n",
       "    </tr>\n",
       "    <tr>\n",
       "      <th>Surface_Area</th>\n",
       "      <td>768.0</td>\n",
       "      <td>671.708333</td>\n",
       "      <td>88.086116</td>\n",
       "      <td>514.50</td>\n",
       "      <td>606.3750</td>\n",
       "      <td>673.75</td>\n",
       "      <td>741.1250</td>\n",
       "      <td>808.50</td>\n",
       "    </tr>\n",
       "    <tr>\n",
       "      <th>Wall_Area</th>\n",
       "      <td>768.0</td>\n",
       "      <td>318.500000</td>\n",
       "      <td>43.626481</td>\n",
       "      <td>245.00</td>\n",
       "      <td>294.0000</td>\n",
       "      <td>318.50</td>\n",
       "      <td>343.0000</td>\n",
       "      <td>416.50</td>\n",
       "    </tr>\n",
       "    <tr>\n",
       "      <th>Roof_Area</th>\n",
       "      <td>768.0</td>\n",
       "      <td>176.604167</td>\n",
       "      <td>45.165950</td>\n",
       "      <td>110.25</td>\n",
       "      <td>140.8750</td>\n",
       "      <td>183.75</td>\n",
       "      <td>220.5000</td>\n",
       "      <td>220.50</td>\n",
       "    </tr>\n",
       "    <tr>\n",
       "      <th>Overall_Height</th>\n",
       "      <td>768.0</td>\n",
       "      <td>5.250000</td>\n",
       "      <td>1.751140</td>\n",
       "      <td>3.50</td>\n",
       "      <td>3.5000</td>\n",
       "      <td>5.25</td>\n",
       "      <td>7.0000</td>\n",
       "      <td>7.00</td>\n",
       "    </tr>\n",
       "    <tr>\n",
       "      <th>Orientation</th>\n",
       "      <td>768.0</td>\n",
       "      <td>3.500000</td>\n",
       "      <td>1.118763</td>\n",
       "      <td>2.00</td>\n",
       "      <td>2.7500</td>\n",
       "      <td>3.50</td>\n",
       "      <td>4.2500</td>\n",
       "      <td>5.00</td>\n",
       "    </tr>\n",
       "    <tr>\n",
       "      <th>Glazing_Area</th>\n",
       "      <td>768.0</td>\n",
       "      <td>0.234375</td>\n",
       "      <td>0.133221</td>\n",
       "      <td>0.00</td>\n",
       "      <td>0.1000</td>\n",
       "      <td>0.25</td>\n",
       "      <td>0.4000</td>\n",
       "      <td>0.40</td>\n",
       "    </tr>\n",
       "    <tr>\n",
       "      <th>Glazing_Area_Distribution</th>\n",
       "      <td>768.0</td>\n",
       "      <td>2.812500</td>\n",
       "      <td>1.550960</td>\n",
       "      <td>0.00</td>\n",
       "      <td>1.7500</td>\n",
       "      <td>3.00</td>\n",
       "      <td>4.0000</td>\n",
       "      <td>5.00</td>\n",
       "    </tr>\n",
       "    <tr>\n",
       "      <th>Heating_Load</th>\n",
       "      <td>768.0</td>\n",
       "      <td>22.307201</td>\n",
       "      <td>10.090196</td>\n",
       "      <td>6.01</td>\n",
       "      <td>12.9925</td>\n",
       "      <td>18.95</td>\n",
       "      <td>31.6675</td>\n",
       "      <td>43.10</td>\n",
       "    </tr>\n",
       "    <tr>\n",
       "      <th>Cooling_Load</th>\n",
       "      <td>768.0</td>\n",
       "      <td>24.587760</td>\n",
       "      <td>9.513306</td>\n",
       "      <td>10.90</td>\n",
       "      <td>15.6200</td>\n",
       "      <td>22.08</td>\n",
       "      <td>33.1325</td>\n",
       "      <td>48.03</td>\n",
       "    </tr>\n",
       "  </tbody>\n",
       "</table>\n",
       "</div>"
      ],
      "text/plain": [
       "                           count        mean        std     min       25%  \\\n",
       "Relative_Compactness       768.0    0.764167   0.105777    0.62    0.6825   \n",
       "Surface_Area               768.0  671.708333  88.086116  514.50  606.3750   \n",
       "Wall_Area                  768.0  318.500000  43.626481  245.00  294.0000   \n",
       "Roof_Area                  768.0  176.604167  45.165950  110.25  140.8750   \n",
       "Overall_Height             768.0    5.250000   1.751140    3.50    3.5000   \n",
       "Orientation                768.0    3.500000   1.118763    2.00    2.7500   \n",
       "Glazing_Area               768.0    0.234375   0.133221    0.00    0.1000   \n",
       "Glazing_Area_Distribution  768.0    2.812500   1.550960    0.00    1.7500   \n",
       "Heating_Load               768.0   22.307201  10.090196    6.01   12.9925   \n",
       "Cooling_Load               768.0   24.587760   9.513306   10.90   15.6200   \n",
       "\n",
       "                              50%       75%     max  \n",
       "Relative_Compactness         0.75    0.8300    0.98  \n",
       "Surface_Area               673.75  741.1250  808.50  \n",
       "Wall_Area                  318.50  343.0000  416.50  \n",
       "Roof_Area                  183.75  220.5000  220.50  \n",
       "Overall_Height               5.25    7.0000    7.00  \n",
       "Orientation                  3.50    4.2500    5.00  \n",
       "Glazing_Area                 0.25    0.4000    0.40  \n",
       "Glazing_Area_Distribution    3.00    4.0000    5.00  \n",
       "Heating_Load                18.95   31.6675   43.10  \n",
       "Cooling_Load                22.08   33.1325   48.03  "
      ]
     },
     "execution_count": 5,
     "metadata": {},
     "output_type": "execute_result"
    }
   ],
   "source": [
    "df.describe().T"
   ]
  },
  {
   "cell_type": "code",
   "execution_count": 6,
   "id": "1186bab3",
   "metadata": {
    "execution": {
     "iopub.execute_input": "2023-03-29T05:32:41.720263Z",
     "iopub.status.busy": "2023-03-29T05:32:41.719264Z",
     "iopub.status.idle": "2023-03-29T05:32:41.748405Z",
     "shell.execute_reply": "2023-03-29T05:32:41.746111Z",
     "shell.execute_reply.started": "2023-03-29T05:32:41.720263Z"
    },
    "scrolled": true
   },
   "outputs": [
    {
     "name": "stdout",
     "output_type": "stream",
     "text": [
      "<class 'pandas.core.frame.DataFrame'>\n",
      "RangeIndex: 768 entries, 0 to 767\n",
      "Data columns (total 10 columns):\n",
      " #   Column                     Non-Null Count  Dtype  \n",
      "---  ------                     --------------  -----  \n",
      " 0   Relative_Compactness       768 non-null    float64\n",
      " 1   Surface_Area               768 non-null    float64\n",
      " 2   Wall_Area                  768 non-null    float64\n",
      " 3   Roof_Area                  768 non-null    float64\n",
      " 4   Overall_Height             768 non-null    float64\n",
      " 5   Orientation                768 non-null    int64  \n",
      " 6   Glazing_Area               768 non-null    float64\n",
      " 7   Glazing_Area_Distribution  768 non-null    int64  \n",
      " 8   Heating_Load               768 non-null    float64\n",
      " 9   Cooling_Load               768 non-null    float64\n",
      "dtypes: float64(8), int64(2)\n",
      "memory usage: 60.1 KB\n"
     ]
    }
   ],
   "source": [
    "df.info()"
   ]
  },
  {
   "cell_type": "code",
   "execution_count": 7,
   "id": "c1add804",
   "metadata": {
    "execution": {
     "iopub.execute_input": "2023-03-29T05:32:41.754399Z",
     "iopub.status.busy": "2023-03-29T05:32:41.753399Z",
     "iopub.status.idle": "2023-03-29T05:32:41.762631Z",
     "shell.execute_reply": "2023-03-29T05:32:41.761631Z",
     "shell.execute_reply.started": "2023-03-29T05:32:41.754399Z"
    }
   },
   "outputs": [
    {
     "data": {
      "text/plain": [
       "(768, 10)"
      ]
     },
     "execution_count": 7,
     "metadata": {},
     "output_type": "execute_result"
    }
   ],
   "source": [
    "df.shape"
   ]
  },
  {
   "cell_type": "markdown",
   "id": "efa8c2c3",
   "metadata": {},
   "source": [
    "### *Exploratory Data Analysis*"
   ]
  },
  {
   "cell_type": "code",
   "execution_count": 8,
   "id": "c091a9fe",
   "metadata": {
    "execution": {
     "iopub.execute_input": "2023-03-29T05:32:41.766388Z",
     "iopub.status.busy": "2023-03-29T05:32:41.766388Z",
     "iopub.status.idle": "2023-03-29T05:32:42.517390Z",
     "shell.execute_reply": "2023-03-29T05:32:42.514002Z",
     "shell.execute_reply.started": "2023-03-29T05:32:41.766388Z"
    }
   },
   "outputs": [
    {
     "data": {
      "image/png": "[encoded data removed]",
      "text/plain": [
       "<Figure size 720x576 with 2 Axes>"
      ]
     },
     "metadata": {
      "needs_background": "light"
     },
     "output_type": "display_data"
    }
   ],
   "source": [
    "fig, axs = plt.subplots(figsize=(10, 8))\n",
    "\n",
    "sns.heatmap(df.corr(method='spearman'), # show the heatmap using spearman correlation\n",
    "            annot=True, \n",
    "            linewidths=0.5, \n",
    "            linecolor='b', \n",
    "            cmap='RdBu', \n",
    "            fmt='.1f')\n",
    "\n",
    "plt.xticks(fontsize=10)\n",
    "plt.yticks(fontsize=10)\n",
    "plt.show()"
   ]
  },
  {
   "cell_type": "markdown",
   "id": "41d522df",
   "metadata": {},
   "source": [
    "***Upon examiming the heatmap using the Spearman Correlation Coefficient it reveals that the relative compactness, surface area, wall area, roof area and overall height have a strong correlation with regards to the heating and cooling loads. Ergo, we will use the 5 features in the model to evaluate its performance and compare it to using all the features.***"
   ]
  },
  {
   "cell_type": "code",
   "execution_count": 9,
   "id": "ebe4a3ac",
   "metadata": {
    "execution": {
     "iopub.execute_input": "2023-03-29T05:32:42.520304Z",
     "iopub.status.busy": "2023-03-29T05:32:42.519305Z",
     "iopub.status.idle": "2023-03-29T05:32:43.417816Z",
     "shell.execute_reply": "2023-03-29T05:32:43.416815Z",
     "shell.execute_reply.started": "2023-03-29T05:32:42.520304Z"
    },
    "scrolled": true
   },
   "outputs": [
    {
     "data": {
      "image/png": "[encoded data removed]",
      "text/plain": [
       "<Figure size 4320x432 with 5 Axes>"
      ]
     },
     "metadata": {
      "needs_background": "light"
     },
     "output_type": "display_data"
    }
   ],
   "source": [
    "num_list = list(df.columns)\n",
    "\n",
    "fig, axes = plt.subplots(1, 5, figsize=(60, 6))\n",
    "\n",
    "for i, ax in zip(range(len(num_list)), axes):\n",
    "    \n",
    "    ax.hist(df[num_list[i]],color='blue',alpha=0.5)\n",
    "    \n",
    "    ax.set_title(num_list[i])\n",
    "\n",
    "plt.tight_layout()"
   ]
  },
  {
   "cell_type": "markdown",
   "id": "61fd6841",
   "metadata": {},
   "source": [
    "***Looking at the histogram plot, it is observed that each of the top 5 features are not normally distributed. With this, we opted to use Spearman Correlation Coefficient, also known as Rank Correlation, in assessing the relationship of the non-normal distribution features for this dataset.***"
   ]
  },
  {
   "cell_type": "code",
   "execution_count": 10,
   "id": "5044bc71",
   "metadata": {
    "execution": {
     "iopub.execute_input": "2023-03-29T05:32:43.418815Z",
     "iopub.status.busy": "2023-03-29T05:32:43.418815Z",
     "iopub.status.idle": "2023-03-29T05:32:43.667137Z",
     "shell.execute_reply": "2023-03-29T05:32:43.664864Z",
     "shell.execute_reply.started": "2023-03-29T05:32:43.418815Z"
    }
   },
   "outputs": [
    {
     "data": {
      "image/png": "[encoded data removed]",
      "text/plain": [
       "<Figure size 864x432 with 1 Axes>"
      ]
     },
     "metadata": {
      "needs_background": "light"
     },
     "output_type": "display_data"
    }
   ],
   "source": [
    "fig, axs = plt.subplots(figsize=(12, 6))\n",
    "\n",
    "for s in ['top', 'right']:\n",
    "    axs.spines[s].set_visible(False)\n",
    "\n",
    "sns.scatterplot(x=df['Relative_Compactness'], y=df['Surface_Area'])\n",
    "plt.show()"
   ]
  },
  {
   "cell_type": "markdown",
   "id": "4e9b934a",
   "metadata": {},
   "source": [
    "***This shows the relationship of relative compactness and surface area. Based on the scatter plot, it indicates that there’s a negative correlation of the two attributes. It suggest that the compact buildings tend to have smaller surfaces.***"
   ]
  },
  {
   "cell_type": "code",
   "execution_count": 11,
   "id": "3f9782c5",
   "metadata": {
    "execution": {
     "iopub.execute_input": "2023-03-29T05:32:43.669012Z",
     "iopub.status.busy": "2023-03-29T05:32:43.667994Z",
     "iopub.status.idle": "2023-03-29T05:32:43.917234Z",
     "shell.execute_reply": "2023-03-29T05:32:43.913215Z",
     "shell.execute_reply.started": "2023-03-29T05:32:43.669012Z"
    }
   },
   "outputs": [
    {
     "data": {
      "image/png": "[encoded data removed]",
      "text/plain": [
       "<Figure size 864x432 with 1 Axes>"
      ]
     },
     "metadata": {
      "needs_background": "light"
     },
     "output_type": "display_data"
    }
   ],
   "source": [
    "filtered = df[['Glazing_Area', 'Heating_Load', 'Cooling_Load']].groupby(by='Glazing_Area').mean()\n",
    "\n",
    "fig, axs = plt.subplots(figsize=(12, 6))\n",
    "\n",
    "for s in ['top', 'right']:\n",
    "    axs.spines[s].set_visible(False)\n",
    "\n",
    "plt.plot(filtered.index, filtered['Heating_Load'], label='Heating_Load', marker='o')\n",
    "plt.plot(filtered.index, filtered['Cooling_Load'], label='Cooling_Load', marker='o')\n",
    "\n",
    "plt.legend()\n",
    "plt.xticks(filtered.index)\n",
    "plt.show()"
   ]
  },
  {
   "cell_type": "markdown",
   "id": "bbaec62c",
   "metadata": {},
   "source": [
    "***As the area of glazing increases within a building, so does the heating and cooling load. \n",
    "Therefore, we can say that lower glazing areas tend to be more energy-sufficient.***"
   ]
  },
  {
   "cell_type": "markdown",
   "id": "270c4abd",
   "metadata": {},
   "source": [
    "### *Training the KNN Regressor*"
   ]
  },
  {
   "cell_type": "code",
   "execution_count": 12,
   "id": "ee405211",
   "metadata": {
    "execution": {
     "iopub.execute_input": "2023-03-29T05:32:43.920235Z",
     "iopub.status.busy": "2023-03-29T05:32:43.919235Z",
     "iopub.status.idle": "2023-03-29T05:32:43.946529Z",
     "shell.execute_reply": "2023-03-29T05:32:43.945229Z",
     "shell.execute_reply.started": "2023-03-29T05:32:43.920235Z"
    }
   },
   "outputs": [],
   "source": [
    "final_df = df[['Relative_Compactness', \n",
    "               'Surface_Area', \n",
    "               'Wall_Area', \n",
    "               'Roof_Area',\n",
    "               'Overall_Height']]\n",
    "\n",
    "X = final_df[['Relative_Compactness', \n",
    "               'Surface_Area', \n",
    "               'Wall_Area', \n",
    "               'Roof_Area',\n",
    "               'Overall_Height']]\n",
    "\n",
    "y = df[['Heating_Load', 'Cooling_Load']]"
   ]
  },
  {
   "cell_type": "markdown",
   "id": "4781ef30",
   "metadata": {},
   "source": [
    "### *Create a pipeline for normalization*"
   ]
  },
  {
   "cell_type": "code",
   "execution_count": 13,
   "id": "22afc891",
   "metadata": {
    "execution": {
     "iopub.execute_input": "2023-03-29T05:32:43.951132Z",
     "iopub.status.busy": "2023-03-29T05:32:43.950732Z",
     "iopub.status.idle": "2023-03-29T05:32:44.022821Z",
     "shell.execute_reply": "2023-03-29T05:32:44.022821Z",
     "shell.execute_reply.started": "2023-03-29T05:32:43.951132Z"
    }
   },
   "outputs": [],
   "source": [
    "def normalize(dataframe: pd.DataFrame) -> pd.DataFrame:\n",
    "    scaler_ = MinMaxScaler()\n",
    "\n",
    "    for features in dataframe.columns:\n",
    "        dataframe[features] = scaler_.fit_transform(dataframe[[features]])\n",
    "        \n",
    "    return dataframe\n",
    "\n",
    "df = df.pipe(normalize)"
   ]
  },
  {
   "cell_type": "markdown",
   "id": "2bcec74a",
   "metadata": {},
   "source": [
    "### *Split the Data*"
   ]
  },
  {
   "cell_type": "code",
   "execution_count": 14,
   "id": "9a553d5e",
   "metadata": {
    "execution": {
     "iopub.execute_input": "2023-03-29T05:32:44.025817Z",
     "iopub.status.busy": "2023-03-29T05:32:44.023818Z",
     "iopub.status.idle": "2023-03-29T05:32:44.038990Z",
     "shell.execute_reply": "2023-03-29T05:32:44.037989Z",
     "shell.execute_reply.started": "2023-03-29T05:32:44.024817Z"
    }
   },
   "outputs": [],
   "source": [
    "X_train, X_test, y_train, y_test = train_test_split(X, y, test_size=0.25, random_state=0)"
   ]
  },
  {
   "cell_type": "markdown",
   "id": "d9b97066",
   "metadata": {},
   "source": [
    "### *Find the optimal ```k```  for this dataset*"
   ]
  },
  {
   "cell_type": "code",
   "execution_count": 15,
   "id": "a57407cc",
   "metadata": {
    "execution": {
     "iopub.execute_input": "2023-03-29T05:32:44.041651Z",
     "iopub.status.busy": "2023-03-29T05:32:44.040550Z",
     "iopub.status.idle": "2023-03-29T05:32:44.054453Z",
     "shell.execute_reply": "2023-03-29T05:32:44.054453Z",
     "shell.execute_reply.started": "2023-03-29T05:32:44.041651Z"
    }
   },
   "outputs": [],
   "source": [
    "def adjusted_r_sqrd(r2: float) -> float:\n",
    "    N = df.shape[0]\n",
    "    p = X.shape[1]\n",
    "    adj_rsquared = (1 - (( 1 - r2) * (N - 1) / (N - p - 1)))\n",
    "    return adj_rsquared"
   ]
  },
  {
   "cell_type": "markdown",
   "id": "7f9e4779",
   "metadata": {},
   "source": [
    "***Since we are dealing with a multivariate data, and $R^2$ wouldn't be a good metric since it increases as we add more and more features even if it doesn't correlate to our target variables. So adjusted $R^2$ would be a good metric for this scenario for us to be penalized for the number of features we use for the model.***"
   ]
  },
  {
   "cell_type": "code",
   "execution_count": 16,
   "id": "53acbc90",
   "metadata": {
    "execution": {
     "iopub.execute_input": "2023-03-29T05:32:44.058081Z",
     "iopub.status.busy": "2023-03-29T05:32:44.056812Z",
     "iopub.status.idle": "2023-03-29T05:34:06.158135Z",
     "shell.execute_reply": "2023-03-29T05:34:06.157131Z",
     "shell.execute_reply.started": "2023-03-29T05:32:44.058081Z"
    }
   },
   "outputs": [
    {
     "name": "stderr",
     "output_type": "stream",
     "text": [
      "100%|██████████████████████████████████████████████████████████████████████████████████| 40/40 [01:22<00:00,  2.05s/it]\n"
     ]
    }
   ],
   "source": [
    "neighbors = range(1, 41) # testing neighbors from 1 to 40\n",
    "trials = range(150) # number of trials\n",
    "\n",
    "train_neighbor_accuracy = {}\n",
    "test_neighbor_accuracy = {}\n",
    "\n",
    "train_neighbor_std = {}\n",
    "test_neighbor_std= {}\n",
    "\n",
    "test_neighbor_rmse = {}\n",
    "\n",
    "test_neighbor_mae = {}\n",
    "\n",
    "for k in tqdm(neighbors):\n",
    "    trial_train_accuracy = []\n",
    "    trial_test_accuracy = []\n",
    "    \n",
    "    trial_test_rmse = []\n",
    "    trial_test_mae = []\n",
    "    \n",
    "    hyperparameter_test_model = KNeighborsRegressor(n_neighbors=k)\n",
    "    \n",
    "    for _ in trials:\n",
    "        \n",
    "        # validation set\n",
    "        Xval_train, Xval_test, yval_train, yval_test = train_test_split(X_train, y_train, test_size=0.25, random_state=None)\n",
    "        \n",
    "        # fit the train data from validation set\n",
    "        hyperparameter_test_model.fit(Xval_train, yval_train)\n",
    "        \n",
    "        # calculate the adjusted r-squared\n",
    "        train_ad_rsqrd = adjusted_r_sqrd(hyperparameter_test_model.score(Xval_train, yval_train))\n",
    "        test_ad_rsqrd = adjusted_r_sqrd(hyperparameter_test_model.score(Xval_test, yval_test))\n",
    "        \n",
    "        # append the results\n",
    "        trial_train_accuracy.append(train_ad_rsqrd)\n",
    "        trial_test_accuracy.append(test_ad_rsqrd)\n",
    "        \n",
    "        y_hat = hyperparameter_test_model.predict(Xval_test)\n",
    "        \n",
    "        # calculate the root mean squared error\n",
    "        trial_test_rmse.append(np.sqrt(mean_squared_error(yval_test, y_hat)))\n",
    "        \n",
    "        trial_test_mae.append(mean_absolute_error(yval_test, y_hat))\n",
    "        \n",
    "        \n",
    "    # append the mean r-squared of train and test\n",
    "    train_neighbor_accuracy[k] = np.mean(trial_train_accuracy)\n",
    "    test_neighbor_accuracy[k] = np.mean(trial_test_accuracy)\n",
    "    \n",
    "    # append the std of r-squared of train and test\n",
    "    train_neighbor_std[k] = np.std(trial_train_accuracy)\n",
    "    test_neighbor_std[k] = np.std(trial_test_accuracy)\n",
    "    \n",
    "    # append the mean rmse\n",
    "    test_neighbor_rmse[k] = np.mean(trial_test_rmse)\n",
    "    test_neighbor_mae[k] = np.mean(trial_test_mae)"
   ]
  },
  {
   "cell_type": "code",
   "execution_count": 17,
   "id": "3937f92e",
   "metadata": {
    "execution": {
     "iopub.execute_input": "2023-03-29T05:34:06.160053Z",
     "iopub.status.busy": "2023-03-29T05:34:06.159188Z",
     "iopub.status.idle": "2023-03-29T05:34:06.174465Z",
     "shell.execute_reply": "2023-03-29T05:34:06.173010Z",
     "shell.execute_reply.started": "2023-03-29T05:34:06.160053Z"
    }
   },
   "outputs": [
    {
     "data": {
      "text/plain": [
       "{1: 0.8303828314430609,\n",
       " 2: 0.8734790953883771,\n",
       " 3: 0.8896789235753196,\n",
       " 4: 0.8970234024032963,\n",
       " 5: 0.9003384657110675,\n",
       " 6: 0.9041297662941723,\n",
       " 7: 0.9063595229907943,\n",
       " 8: 0.9058569948150212,\n",
       " 9: 0.9093681399106868,\n",
       " 10: 0.91020334834872,\n",
       " 11: 0.9099106247674096,\n",
       " 12: 0.9112438571431115,\n",
       " 13: 0.9111553399254967,\n",
       " 14: 0.9118151453184405,\n",
       " 15: 0.9121443702542198,\n",
       " 16: 0.9128426213050468,\n",
       " 17: 0.9136499885983377,\n",
       " 18: 0.9123333202545477,\n",
       " 19: 0.9134046036781871,\n",
       " 20: 0.9137198301015129,\n",
       " 21: 0.9143494501938252,\n",
       " 22: 0.9137819604905061,\n",
       " 23: 0.9139515611204223,\n",
       " 24: 0.9144047094681357,\n",
       " 25: 0.91536125566436,\n",
       " 26: 0.914383146072121,\n",
       " 27: 0.91427938110758,\n",
       " 28: 0.9142658210649055,\n",
       " 29: 0.9144829384612649,\n",
       " 30: 0.9150003289586992,\n",
       " 31: 0.9149854022396854,\n",
       " 32: 0.914833603251754,\n",
       " 33: 0.9141881488597983,\n",
       " 34: 0.9133032015134094,\n",
       " 35: 0.9137835620934545,\n",
       " 36: 0.9119950004196875,\n",
       " 37: 0.9106633403821157,\n",
       " 38: 0.9090789728627476,\n",
       " 39: 0.9074109919248364,\n",
       " 40: 0.9057367319222931}"
      ]
     },
     "execution_count": 17,
     "metadata": {},
     "output_type": "execute_result"
    }
   ],
   "source": [
    "train_neighbor_accuracy"
   ]
  },
  {
   "cell_type": "code",
   "execution_count": 18,
   "id": "eefdb92a",
   "metadata": {
    "execution": {
     "iopub.execute_input": "2023-03-29T05:34:06.176905Z",
     "iopub.status.busy": "2023-03-29T05:34:06.175476Z",
     "iopub.status.idle": "2023-03-29T05:34:06.204860Z",
     "shell.execute_reply": "2023-03-29T05:34:06.203860Z",
     "shell.execute_reply.started": "2023-03-29T05:34:06.176905Z"
    }
   },
   "outputs": [
    {
     "data": {
      "text/plain": [
       "{1: 0.8235747197227083,\n",
       " 2: 0.8694684790139878,\n",
       " 3: 0.8859273158244999,\n",
       " 4: 0.8916319228631631,\n",
       " 5: 0.8962506021802494,\n",
       " 6: 0.8958345357077462,\n",
       " 7: 0.8999882727384625,\n",
       " 8: 0.9039277806573227,\n",
       " 9: 0.9019552760728309,\n",
       " 10: 0.9004561226409435,\n",
       " 11: 0.904994256428706,\n",
       " 12: 0.9032916013333719,\n",
       " 13: 0.906199966139201,\n",
       " 14: 0.9063599801315285,\n",
       " 15: 0.9060170387818918,\n",
       " 16: 0.9062198575546199,\n",
       " 17: 0.9053774000555389,\n",
       " 18: 0.9094923269833354,\n",
       " 19: 0.907924377972422,\n",
       " 20: 0.9077873240887581,\n",
       " 21: 0.9071368754293432,\n",
       " 22: 0.9088077574362721,\n",
       " 23: 0.9092285670948648,\n",
       " 24: 0.9087895671040875,\n",
       " 25: 0.9064752518629556,\n",
       " 26: 0.9099732700574535,\n",
       " 27: 0.9106495840392194,\n",
       " 28: 0.9111428382879958,\n",
       " 29: 0.9099199647481386,\n",
       " 30: 0.9084748948142336,\n",
       " 31: 0.9082312780693894,\n",
       " 32: 0.9079971277055359,\n",
       " 33: 0.9094841736843708,\n",
       " 34: 0.90911571343254,\n",
       " 35: 0.9050286144973286,\n",
       " 36: 0.9066004954916256,\n",
       " 37: 0.9040387468382823,\n",
       " 38: 0.9016596244882277,\n",
       " 39: 0.9000357898591168,\n",
       " 40: 0.8981747000022172}"
      ]
     },
     "execution_count": 18,
     "metadata": {},
     "output_type": "execute_result"
    }
   ],
   "source": [
    "test_neighbor_accuracy"
   ]
  },
  {
   "cell_type": "code",
   "execution_count": 19,
   "id": "546017cf",
   "metadata": {
    "execution": {
     "iopub.execute_input": "2023-03-29T05:34:06.207522Z",
     "iopub.status.busy": "2023-03-29T05:34:06.206905Z",
     "iopub.status.idle": "2023-03-29T05:34:06.526962Z",
     "shell.execute_reply": "2023-03-29T05:34:06.525962Z",
     "shell.execute_reply.started": "2023-03-29T05:34:06.207522Z"
    }
   },
   "outputs": [
    {
     "data": {
      "image/png": "[encoded data removed]",
      "text/plain": [
       "<Figure size 1152x576 with 1 Axes>"
      ]
     },
     "metadata": {
      "needs_background": "light"
     },
     "output_type": "display_data"
    }
   ],
   "source": [
    "fig, axs = plt.subplots(figsize=(16, 8))\n",
    "\n",
    "for s in ['top', 'right']:\n",
    "    axs.spines[s].set_visible(False)\n",
    "\n",
    "plt.errorbar(neighbors, \n",
    "             train_neighbor_accuracy.values(),\n",
    "             yerr=list(train_neighbor_std.values()), \n",
    "             label=\"training accuracy\", \n",
    "             color='steelblue', \n",
    "             marker='o', \n",
    "             linestyle='dashed', \n",
    "             markersize=12)\n",
    "\n",
    "plt.errorbar(neighbors, \n",
    "             test_neighbor_accuracy.values(),\n",
    "             yerr=list(test_neighbor_std.values()), \n",
    "             label=\"test accuracy\", \n",
    "             color='tomato', \n",
    "             marker='^', \n",
    "             linestyle='-', \n",
    "             markersize=12)\n",
    "\n",
    "plt.ylabel(\"Accuracy (Adjusted R-Squared)\", fontsize=12)\n",
    "plt.xlabel(\"n_neighbors\",fontsize=12)\n",
    "\n",
    "plt.legend()\n",
    "plt.show()"
   ]
  },
  {
   "cell_type": "markdown",
   "id": "50c86766",
   "metadata": {},
   "source": [
    "***The as n_neighbor increases, the adjusted r-squared increases as well. Moreover, the n_neighbor = 1 gives the lowest accuracy out of all n_neighbors, with the highest standard deviation as well, meaning that it gives different accuracies per trial. In addition, n_neighbor = 22 gives the highest $R^2$ out of all the n_neighbors, and it gives consistent results upon each trial by looking at the error bars.***"
   ]
  },
  {
   "cell_type": "code",
   "execution_count": 37,
   "id": "43915fea",
   "metadata": {
    "execution": {
     "iopub.execute_input": "2023-03-29T06:07:35.284068Z",
     "iopub.status.busy": "2023-03-29T06:07:35.283068Z",
     "iopub.status.idle": "2023-03-29T06:07:35.585402Z",
     "shell.execute_reply": "2023-03-29T06:07:35.585402Z",
     "shell.execute_reply.started": "2023-03-29T06:07:35.284068Z"
    },
    "tags": []
   },
   "outputs": [
    {
     "data": {
      "image/png": "[encoded data removed]",
      "text/plain": [
       "<Figure size 864x432 with 1 Axes>"
      ]
     },
     "metadata": {
      "needs_background": "light"
     },
     "output_type": "display_data"
    }
   ],
   "source": [
    "fig, axs = plt.subplots(figsize=(12, 6))\n",
    "\n",
    "for s in ['top', 'right']:\n",
    "    axs.spines[s].set_visible(False)\n",
    "\n",
    "plt.plot(neighbors, \n",
    "         test_neighbor_rmse.values(),\n",
    "         label=\"test RMSE\", \n",
    "         color='#5E948A', \n",
    "         marker='o', \n",
    "         linestyle='dashed')\n",
    "\n",
    "plt.plot(neighbors, \n",
    "         test_neighbor_mae.values(),\n",
    "         label=\"test MAE\", \n",
    "         marker='o',\n",
    "        color='#E4A9A9')\n",
    "\n",
    "plt.title('Test set (Top 5 Features) \\nRMSE & MAE vs n_neighbors')\n",
    "plt.savefig('rmsemae.png', transparent=True)\n",
    "plt.xlabel('n_neighbor')\n",
    "plt.legend()\n",
    "plt.show()\n",
    "\n"
   ]
  },
  {
   "cell_type": "code",
   "execution_count": 21,
   "id": "0d8074e2",
   "metadata": {
    "execution": {
     "iopub.execute_input": "2023-03-29T05:34:06.776135Z",
     "iopub.status.busy": "2023-03-29T05:34:06.774358Z",
     "iopub.status.idle": "2023-03-29T05:34:06.806482Z",
     "shell.execute_reply": "2023-03-29T05:34:06.803600Z",
     "shell.execute_reply.started": "2023-03-29T05:34:06.776135Z"
    }
   },
   "outputs": [
    {
     "data": {
      "text/plain": [
       "[(28, 2.872120520497977),\n",
       " (27, 2.881269969893648),\n",
       " (26, 2.888008627578272),\n",
       " (33, 2.8924112176465844),\n",
       " (29, 2.9010293816549657)]"
      ]
     },
     "execution_count": 21,
     "metadata": {},
     "output_type": "execute_result"
    }
   ],
   "source": [
    "sorted(test_neighbor_rmse.items(), key = lambda k: k[1])[:5]"
   ]
  },
  {
   "cell_type": "code",
   "execution_count": 22,
   "id": "ccdfbc3a",
   "metadata": {
    "execution": {
     "iopub.execute_input": "2023-03-29T05:34:06.812040Z",
     "iopub.status.busy": "2023-03-29T05:34:06.811375Z",
     "iopub.status.idle": "2023-03-29T05:34:06.835719Z",
     "shell.execute_reply": "2023-03-29T05:34:06.834361Z",
     "shell.execute_reply.started": "2023-03-29T05:34:06.812040Z"
    },
    "scrolled": true
   },
   "outputs": [
    {
     "data": {
      "text/plain": [
       "[(28, 2.139304761904762),\n",
       " (27, 2.1436965106310013),\n",
       " (33, 2.145307372334456),\n",
       " (26, 2.1515866363960114),\n",
       " (34, 2.152391782407408)]"
      ]
     },
     "execution_count": 22,
     "metadata": {},
     "output_type": "execute_result"
    }
   ],
   "source": [
    "sorted(test_neighbor_mae.items(), key=lambda k: k[1])[:5]"
   ]
  },
  {
   "cell_type": "markdown",
   "id": "5e62cafe",
   "metadata": {},
   "source": [
    "***Looking at the chart above, using RMSE & MAE to find the optimal n_neighbor, the RMSE or Root Mean Squared Error which is an L2 Loss function, the n_neighbor = 22 gives the lowest RMSE out of all the n_neighbor, an important indication that this is the optimal parameter. Moreover, the MAE or Mean Absolute Error also ranks the n_neighbor = 22 as one of the top 5 whose MAE are the lowest. By looking at the results, we can conclude that the optimal n_neighbor for this dataset is ```22```, as it gives a high adjusted $R^2$ (considering that we are using 5 features) and a low RMSE and MAE.***"
   ]
  },
  {
   "cell_type": "markdown",
   "id": "2a1229cc",
   "metadata": {},
   "source": [
    "### *Train and test the regressor using 150 trials & ```n_neighbors``` = 22 (Top 5 Features)*"
   ]
  },
  {
   "cell_type": "code",
   "execution_count": 23,
   "id": "d6909af1",
   "metadata": {
    "execution": {
     "iopub.execute_input": "2023-03-29T05:34:06.838154Z",
     "iopub.status.busy": "2023-03-29T05:34:06.837220Z",
     "iopub.status.idle": "2023-03-29T05:34:06.851580Z",
     "shell.execute_reply": "2023-03-29T05:34:06.849554Z",
     "shell.execute_reply.started": "2023-03-29T05:34:06.838154Z"
    }
   },
   "outputs": [],
   "source": [
    "X = df[['Relative_Compactness', \n",
    "        'Surface_Area', \n",
    "        'Wall_Area', \n",
    "        'Roof_Area',\n",
    "        'Overall_Height']]\n",
    "\n",
    "y = df[['Heating_Load', 'Cooling_Load']]"
   ]
  },
  {
   "cell_type": "code",
   "execution_count": 24,
   "id": "238ae5e1",
   "metadata": {
    "execution": {
     "iopub.execute_input": "2023-03-29T05:34:06.855178Z",
     "iopub.status.busy": "2023-03-29T05:34:06.854064Z",
     "iopub.status.idle": "2023-03-29T05:34:09.352520Z",
     "shell.execute_reply": "2023-03-29T05:34:09.352520Z",
     "shell.execute_reply.started": "2023-03-29T05:34:06.855178Z"
    }
   },
   "outputs": [
    {
     "name": "stderr",
     "output_type": "stream",
     "text": [
      "100%|████████████████████████████████████████████████████████████████████████████████| 150/150 [00:02<00:00, 60.63it/s]\n"
     ]
    }
   ],
   "source": [
    "train_neighbor_accuracy = []\n",
    "test_neighbor_accuracy = []\n",
    "\n",
    "y_hat_per_trial = []\n",
    "y_test_per_trial = []\n",
    "\n",
    "test_rmse = []\n",
    "test_mae = []\n",
    "\n",
    "trials = range(150)\n",
    "\n",
    "for _ in tqdm(trials):\n",
    "    X_train, X_test, y_train, y_test = train_test_split(X, y, test_size=0.25, random_state=None)\n",
    "    \n",
    "    model = KNeighborsRegressor(n_neighbors = 22)\n",
    "        \n",
    "    # fit the train data from validation set\n",
    "    model.fit(X_train, y_train)\n",
    "    \n",
    "    # calculate the adjusted r-squared\n",
    "    train_ad_rsqrd = adjusted_r_sqrd(model.score(X_train, y_train))\n",
    "    test_ad_rsqrd = adjusted_r_sqrd(model.score(X_test, y_test))\n",
    "        \n",
    "    # append the results\n",
    "    train_neighbor_accuracy.append(train_ad_rsqrd)\n",
    "    test_neighbor_accuracy.append(test_ad_rsqrd)\n",
    "        \n",
    "    y_hat = model.predict(X_test)\n",
    "\n",
    "    y_hat_per_trial.append([np.mean(y_hat[:, 0]), np.mean(y_hat[:, 1])])\n",
    "    \n",
    "    y_test_per_trial.append([np.mean(y_test['Heating_Load']), np.mean(y_test['Cooling_Load'])])\n",
    "        \n",
    "    # calculate the root mean squared error\n",
    "    test_rmse.append(np.sqrt(mean_squared_error(y_test, y_hat)))\n",
    "        \n",
    "    test_mae.append(mean_absolute_error(y_test, y_hat))\n",
    "    \n",
    "results = {'Adjusted R^2 Train':np.mean(train_neighbor_accuracy),\n",
    "           'Adjusted R^2 Test':np.mean(test_neighbor_accuracy),\n",
    "          'RMSE':np.mean(test_rmse),\n",
    "          'MAE':np.mean(test_mae)}"
   ]
  },
  {
   "cell_type": "code",
   "execution_count": 25,
   "id": "ec48f9ec",
   "metadata": {
    "execution": {
     "iopub.execute_input": "2023-03-29T05:34:09.354678Z",
     "iopub.status.busy": "2023-03-29T05:34:09.354465Z",
     "iopub.status.idle": "2023-03-29T05:34:09.368981Z",
     "shell.execute_reply": "2023-03-29T05:34:09.367802Z",
     "shell.execute_reply.started": "2023-03-29T05:34:09.354678Z"
    }
   },
   "outputs": [
    {
     "data": {
      "text/plain": [
       "{'Adjusted R^2 Train': 0.9134096555305276,\n",
       " 'Adjusted R^2 Test': 0.9057667974578556,\n",
       " 'RMSE': 0.08038881148648785,\n",
       " 'MAE': 0.05966579166316259}"
      ]
     },
     "execution_count": 25,
     "metadata": {},
     "output_type": "execute_result"
    }
   ],
   "source": [
    "results"
   ]
  },
  {
   "cell_type": "code",
   "execution_count": 26,
   "id": "3421ae43",
   "metadata": {
    "execution": {
     "iopub.execute_input": "2023-03-29T05:34:09.370480Z",
     "iopub.status.busy": "2023-03-29T05:34:09.370480Z",
     "iopub.status.idle": "2023-03-29T05:34:09.398781Z",
     "shell.execute_reply": "2023-03-29T05:34:09.397780Z",
     "shell.execute_reply.started": "2023-03-29T05:34:09.370480Z"
    }
   },
   "outputs": [
    {
     "data": {
      "text/html": [
       "<div>\n",
       "<style scoped>\n",
       "    .dataframe tbody tr th:only-of-type {\n",
       "        vertical-align: middle;\n",
       "    }\n",
       "\n",
       "    .dataframe tbody tr th {\n",
       "        vertical-align: top;\n",
       "    }\n",
       "\n",
       "    .dataframe thead th {\n",
       "        text-align: right;\n",
       "    }\n",
       "</style>\n",
       "<table border=\"1\" class=\"dataframe\">\n",
       "  <thead>\n",
       "    <tr style=\"text-align: right;\">\n",
       "      <th></th>\n",
       "      <th>Heating_Load (y_test)</th>\n",
       "      <th>Heating_Load (y_pred)</th>\n",
       "      <th>Cooling_Load (y_test)</th>\n",
       "      <th>Cooling_Load (y_pred)</th>\n",
       "    </tr>\n",
       "  </thead>\n",
       "  <tbody>\n",
       "    <tr>\n",
       "      <th>0</th>\n",
       "      <td>0.451706</td>\n",
       "      <td>0.440938</td>\n",
       "      <td>0.381229</td>\n",
       "      <td>0.370925</td>\n",
       "    </tr>\n",
       "    <tr>\n",
       "      <th>1</th>\n",
       "      <td>0.440928</td>\n",
       "      <td>0.441325</td>\n",
       "      <td>0.373756</td>\n",
       "      <td>0.373189</td>\n",
       "    </tr>\n",
       "    <tr>\n",
       "      <th>2</th>\n",
       "      <td>0.441466</td>\n",
       "      <td>0.447394</td>\n",
       "      <td>0.368763</td>\n",
       "      <td>0.379407</td>\n",
       "    </tr>\n",
       "    <tr>\n",
       "      <th>3</th>\n",
       "      <td>0.440902</td>\n",
       "      <td>0.432714</td>\n",
       "      <td>0.369956</td>\n",
       "      <td>0.359125</td>\n",
       "    </tr>\n",
       "    <tr>\n",
       "      <th>4</th>\n",
       "      <td>0.452628</td>\n",
       "      <td>0.440432</td>\n",
       "      <td>0.379390</td>\n",
       "      <td>0.367537</td>\n",
       "    </tr>\n",
       "  </tbody>\n",
       "</table>\n",
       "</div>"
      ],
      "text/plain": [
       "   Heating_Load (y_test)  Heating_Load (y_pred)  Cooling_Load (y_test)  \\\n",
       "0               0.451706               0.440938               0.381229   \n",
       "1               0.440928               0.441325               0.373756   \n",
       "2               0.441466               0.447394               0.368763   \n",
       "3               0.440902               0.432714               0.369956   \n",
       "4               0.452628               0.440432               0.379390   \n",
       "\n",
       "   Cooling_Load (y_pred)  \n",
       "0               0.370925  \n",
       "1               0.373189  \n",
       "2               0.379407  \n",
       "3               0.359125  \n",
       "4               0.367537  "
      ]
     },
     "execution_count": 26,
     "metadata": {},
     "output_type": "execute_result"
    }
   ],
   "source": [
    "results_df = pd.DataFrame()\n",
    "\n",
    "y_test_results = np.array(np.matrix(y_test_per_trial))\n",
    "y_hat_results = np.array(np.matrix(y_hat_per_trial))\n",
    "\n",
    "results_df['Heating_Load (y_test)'] = y_hat_results[:, 0]\n",
    "results_df['Heating_Load (y_pred)'] = y_test_results[:, 0]\n",
    "\n",
    "results_df['Cooling_Load (y_test)'] = y_hat_results[:, 1]\n",
    "results_df['Cooling_Load (y_pred)'] = y_test_results[:, 1]\n",
    "\n",
    "results_df.head()"
   ]
  },
  {
   "cell_type": "markdown",
   "id": "e1683723",
   "metadata": {},
   "source": [
    "### *Train and test the regressor using 150 trials & ```n_neighbors``` = 22 (All Features)*"
   ]
  },
  {
   "cell_type": "code",
   "execution_count": 27,
   "id": "74fc6d2d",
   "metadata": {
    "execution": {
     "iopub.execute_input": "2023-03-29T05:34:09.404072Z",
     "iopub.status.busy": "2023-03-29T05:34:09.401055Z",
     "iopub.status.idle": "2023-03-29T05:34:09.415039Z",
     "shell.execute_reply": "2023-03-29T05:34:09.413915Z",
     "shell.execute_reply.started": "2023-03-29T05:34:09.404072Z"
    }
   },
   "outputs": [],
   "source": [
    "X = df[['Relative_Compactness', \n",
    "        'Surface_Area', \n",
    "        'Wall_Area', \n",
    "        'Roof_Area',\n",
    "        'Overall_Height', \n",
    "        'Orientation', \n",
    "        'Glazing_Area', \n",
    "        'Glazing_Area_Distribution']]\n",
    "\n",
    "y = df[['Heating_Load', 'Cooling_Load']]"
   ]
  },
  {
   "cell_type": "code",
   "execution_count": 28,
   "id": "2e50432f",
   "metadata": {
    "execution": {
     "iopub.execute_input": "2023-03-29T05:34:09.420741Z",
     "iopub.status.busy": "2023-03-29T05:34:09.419015Z",
     "iopub.status.idle": "2023-03-29T05:34:13.007098Z",
     "shell.execute_reply": "2023-03-29T05:34:13.007098Z",
     "shell.execute_reply.started": "2023-03-29T05:34:09.420741Z"
    }
   },
   "outputs": [
    {
     "name": "stderr",
     "output_type": "stream",
     "text": [
      "100%|████████████████████████████████████████████████████████████████████████████████| 150/150 [00:03<00:00, 42.08it/s]\n"
     ]
    }
   ],
   "source": [
    "train_neighbor_accuracy = []\n",
    "test_neighbor_accuracy = []\n",
    "\n",
    "test_rmse = []\n",
    "test_mae = []\n",
    "\n",
    "# number of trials\n",
    "trials = range(150)\n",
    "\n",
    "for _ in tqdm(trials):\n",
    "    X_train, X_test, y_train, y_test = train_test_split(X, y, test_size=0.25, random_state=None)\n",
    "    \n",
    "    model = KNeighborsRegressor(n_neighbors = 22)\n",
    "        \n",
    "    # fit the train data from validation set\n",
    "    model.fit(X_train, y_train)\n",
    "    \n",
    "    # calculate the adjusted r-squared\n",
    "    train_ad_rsqrd = adjusted_r_sqrd(model.score(X_train, y_train))\n",
    "    test_ad_rsqrd = adjusted_r_sqrd(model.score(X_test, y_test))\n",
    "        \n",
    "    # append the results\n",
    "    train_neighbor_accuracy.append(train_ad_rsqrd)\n",
    "    test_neighbor_accuracy.append(test_ad_rsqrd)\n",
    "    \n",
    "    # make the model preidict for calculating RMSE and MAE\n",
    "    y_hat = model.predict(X_test)\n",
    "        \n",
    "    # calculate the root mean squared error\n",
    "    test_rmse.append(np.sqrt(mean_squared_error(y_test, y_hat)))\n",
    "        \n",
    "    test_mae.append(mean_absolute_error(y_test, y_hat))\n",
    "    \n",
    "results = {'Adjusted R^2 Train':np.mean(train_neighbor_accuracy),\n",
    "           'Adjusted R^2 Test':np.mean(test_neighbor_accuracy),\n",
    "          'RMSE':np.mean(test_rmse),\n",
    "          'MAE':np.mean(test_mae)}"
   ]
  },
  {
   "cell_type": "code",
   "execution_count": 29,
   "id": "d8b4270f",
   "metadata": {
    "execution": {
     "iopub.execute_input": "2023-03-29T05:34:13.009225Z",
     "iopub.status.busy": "2023-03-29T05:34:13.008041Z",
     "iopub.status.idle": "2023-03-29T05:34:13.023451Z",
     "shell.execute_reply": "2023-03-29T05:34:13.023289Z",
     "shell.execute_reply.started": "2023-03-29T05:34:13.009225Z"
    }
   },
   "outputs": [
    {
     "data": {
      "text/plain": [
       "{'Adjusted R^2 Train': 0.9093548583224085,\n",
       " 'Adjusted R^2 Test': 0.9008135279824296,\n",
       " 'RMSE': 0.08254960689235688,\n",
       " 'MAE': 0.0573760449348742}"
      ]
     },
     "execution_count": 29,
     "metadata": {},
     "output_type": "execute_result"
    }
   ],
   "source": [
    "results"
   ]
  },
  {
   "cell_type": "markdown",
   "id": "62535b82",
   "metadata": {},
   "source": [
    "## Three Highlights of the Results\n",
    "\n",
    "*Using Spearman Correlation Coefficient we identified the following as top predictors of our target variable:*\n",
    "\n",
    "    relative compactness: 0.7\n",
    "    surface area: -0.7\n",
    "    wall area: 0.4\n",
    "    roof area: -0.8\n",
    "    overall height: 0.9\n",
    "    \n",
    "*Optimal n_neighbor is 22.*\n",
    "\n",
    "    For top five features: accuracy of 0.9125 for the train set and 0.9087 for the test set.\n",
    "\n",
    "    For all features: the train and test accuracy was found to be 0.9096, and 0.0.9003 respectively.\n",
    "\n",
    "*The model’s train and test set accuracy were both around 0.908 to 0.912, this indicates that our model does not overfit.*"
   ]
  },
  {
   "cell_type": "markdown",
   "id": "e25dae37",
   "metadata": {},
   "source": [
    "<br>"
   ]
  },
  {
   "cell_type": "markdown",
   "id": "d474848e",
   "metadata": {
    "tags": []
   },
   "source": [
    "## Discussion of Results\n",
    "<br>\n",
    "<div style=\"text-align: justify\" ><i>The results of the model provide several important findings in optimising energy efficiency in building's heating and cooling loads using kNN regression model.</i></div>\n",
    "<br>\n",
    "<div style=\"text-align: justify\" ><i><b>Firstly, it identifies the key features that have a significant impact on determining the cooling and heating loads</b>. Using the spearman correlation coefficient we conducted the analysis of each feature to assess the strength on how it affects our target which is the heating and cooling load. We take the accuracy, RMSE, MAE of the top five features including relative compactness, surface area, wall area, roof area, and overall height vs all features adding orientation, glazing area, and glazing area distribution to the first five attributes to see the strength of relationship for our target variable. The results appear that there’s a slight improvement in the model’s performance in terms of accuracy, and minimal error difference between the prediction and ground truth values.</i></div>\n",
    "<br>\n",
    "<div style=\"text-align: justify\" ><i><b>Secondly, the model’s accuracy was the highest when using the top five features precisely when n_neighbor is equal to 22, where model achieved an accuracy of 0.913 for train set and test set is 0.909</b>. Relatively using all features, we achieve an accuracy of 0.91 for the training set and 0.900 for the testing set. From 5 to 40 neighbors the lowest error was observed at this point and at the same time reaches the highest accuracy.</i></div>\n",
    "<br>\n",
    "<div style=\"text-align: justify\" ><i><b>Thirdly, the model’s train and test set accuracy were both around 0.91, this indicates that our model does not overfit</b>. The fact that the model performs similarly on both the training and the testing set suggests that it was able to generalise well to new, unseen data.</i></div>\n",
    "<br>\n",
    "<div style=\"text-align: justify\" ><i>Overall, the kNN regression model provides us valuable insights into relevant factors that identify its heating and cooling load. By leveraging the factors that have impacted its energy consumption, we can develop more ways and strategize things on how we can optimise the energy we use. It is a good note that as we face challenges of the climate crisis, it is also crucial to prioritise energy efficiency as a fundamental aspect in designing buildings and other operations.</i></div>\n",
    "<br>\n",
    "<div style=\"text-align: justify\" ><i>This is true in the Philippines where it undergoes rapid growth and development by which the government should be critical and prioritising strategies for optimising energy efficiency.</i></div>\n",
    "<br>\n",
    "<div style=\"text-align: justify\" ><i><b>In light of these considerations, it is up for the government officials to capitalise on technological advancements in creating a sustainable and energy-saving environment.</b></i></div>"
   ]
  }
 ],
 "metadata": {
  "kernelspec": {
   "display_name": "Python 3 (ipykernel)",
   "language": "python",
   "name": "python3"
  },
  "language_info": {
   "codemirror_mode": {
    "name": "ipython",
    "version": 3
   },
   "file_extension": ".py",
   "mimetype": "text/x-python",
   "name": "python",
   "nbconvert_exporter": "python",
   "pygments_lexer": "ipython3",
   "version": "3.10.6"
  }
 },
 "nbformat": 4,
 "nbformat_minor": 5
}
